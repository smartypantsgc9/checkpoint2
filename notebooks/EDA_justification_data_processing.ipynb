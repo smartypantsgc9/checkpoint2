{
 "cells": [
  {
   "cell_type": "markdown",
   "metadata": {},
   "source": [
    "In this checkpoint you will be writing the more completing your introduction and describing your methods. You should continue add this work into a narrative form according to the ‘scientific writing’ lecture.\n",
    "\n",
    "Report Portion:\n",
    "\n",
    "Write a description of of the methods used in the investigation.\n",
    "If you have a data-modeling focused domain:\n",
    "\n",
    "Write an EDA that gives a data-driven argument for why the data that you use is appropriate for answering the question in the problem laid out in your introduction. You should also address and justify and data cleaning or manipulation."
   ]
  },
  {
   "cell_type": "markdown",
   "metadata": {},
   "source": [
    "# Reddit data"
   ]
  },
  {
   "cell_type": "markdown",
   "metadata": {},
   "source": [
    "With the increasing proportion of deaths each year due to opioid overdose, more research is needed to understand the information that drug users post to social media. Big social media data has the potential to reveal troves of information to solve the problem of drug addiction and overdose. The thousands of subjective experiences and pieces of information could possibly help public health officials in the field in an actionable way. "
   ]
  },
  {
   "cell_type": "markdown",
   "metadata": {},
   "source": [
    "For this reason, our team decided to look at comments and posts generated on reddit, the social news website.\n",
    "\n",
    "For a variety of reasons, this data stuck out as being potentially extremely valuable, given the complexity and richness of the posts on reddit relating to drug use. We will show examples of these extremely informative posts, along with some examples displaying data ripe for entity/relationship recognition."
   ]
  },
  {
   "cell_type": "markdown",
   "metadata": {},
   "source": [
    "We will disect a search query on the subreddit /r/drugs, a community dedicated to discussing drug usage. With discussions ranging from harm reduction to harmful abuse, the community proved rich in diversity of content and information."
   ]
  },
  {
   "cell_type": "code",
   "execution_count": 71,
   "metadata": {},
   "outputs": [
    {
     "data": {
      "text/plain": [
       "dict_keys(['ebhnug', 'hte1qm', 'hgggtx', 'g623ad', 'dwhu8e', 'g9w0wr', 'itdacx', 'hn649p', 'fnz2jp', 'fbc8zj', 'duqyny', 'fj1eji', 'fbq3op', 'ikh9yn', 'et12gb', 'izntxx', 'fa82sb', 'hr10r1', 'i3cchf', 'gov1fj', 'g2by5x', 'f4ryvb', 'hhtf7d', 'gn4e2n', 'goenej', 'hs3rq9', 'hekvnl', 'f13c88', 'hhj5rp', 'enxcog', 'ed3b9a', 'ef03qj', 'gqmlpp', 'e9dqre', 'i12pyu', 'j68ewf', 'hjlsbs', 'istwio', 'dwcz4i', 'irggv7', 'jhnuy6', 'hu6798', 'g5vbt7', 'e1evcb', 'i5ikwd', 'i01l20', 'gvq9aw', 'g1lzug', 'hibeam', 'epkiio', 'glp269', 'fedhrz', 'j4hvxt', 'fofzul', 'eqn8ao', 'jgmifx', 'fanvod', 'ih9vaf', 'e9vux2', 'fu5gfk', 'j725h8'])"
      ]
     },
     "execution_count": 71,
     "metadata": {},
     "output_type": "execute_result"
    }
   ],
   "source": [
    "import json\n",
    "SUBREDDIT = 'drugs'\n",
    "QUERY = 'xannies'\n",
    "TIME = 'year'\n",
    "with open(SUBREDDIT + '_' + QUERY + '_' + TIME + '.json', 'r') as outfile:\n",
    "    data = json.load(outfile)\n",
    "\n",
    "    \n",
    "## the IDs of the posts fetched with this query    \n",
    "data.keys()"
   ]
  },
  {
   "cell_type": "markdown",
   "metadata": {},
   "source": [
    "We will look at a couple of examples and look for something interesting."
   ]
  },
  {
   "cell_type": "code",
   "execution_count": 72,
   "metadata": {},
   "outputs": [
    {
     "data": {
      "text/plain": [
       "['ebhnug', 'hte1qm', 'hgggtx', 'g623ad', 'dwhu8e']"
      ]
     },
     "execution_count": 72,
     "metadata": {},
     "output_type": "execute_result"
    }
   ],
   "source": [
    "list(data.keys())[:5]"
   ]
  },
  {
   "cell_type": "markdown",
   "metadata": {},
   "source": [
    "Below we have an example of a Alprazolam(Xanax) user who had plans to commit suicide. He details an experinece of taking the drug and the urge goig away. This information could be useful to a therapist advising this individual and could prevent further harm. \n",
    "\n",
    "It also presents helpful information in that the users experience can inform our knowledge graph, and perhaps reveal enlightening information about the connection between drug use and suicide."
   ]
  },
  {
   "cell_type": "code",
   "execution_count": 73,
   "metadata": {},
   "outputs": [
    {
     "data": {
      "text/plain": [
       "'Xannies in the pool made me less suicidal ..'"
      ]
     },
     "execution_count": 73,
     "metadata": {},
     "output_type": "execute_result"
    }
   ],
   "source": [
    "data['hte1qm']['title']"
   ]
  },
  {
   "cell_type": "code",
   "execution_count": 74,
   "metadata": {},
   "outputs": [
    {
     "data": {
      "text/plain": [
       "\"I was feeling suicidal hours ago, genuinely making plans to kill myself. Then I took a few mg of xans. Felt somewhat better, still not great. Just less motivated to do anything I would regret. On a spur of the moment type thing, i stripped and jumped in the pool. It was like 12am, I was alone. It was cold, I was shivering. But I felt more peaceful than I had in a long time. I just laid like that, on my back in the pitch dark, looking up at the stars. Just me and the skies. It was the most bliss I had felt in years. Anyways, got out and fell into bed. That was a few hours ago, and I feel much better. Just wanted to share my experience, not sure how I'll feel tomorrow but tonight I finally feel okay\""
      ]
     },
     "execution_count": 74,
     "metadata": {},
     "output_type": "execute_result"
    }
   ],
   "source": [
    "data['hte1qm']['text']"
   ]
  },
  {
   "cell_type": "markdown",
   "metadata": {},
   "source": [
    "Below we have an example of a post seemingly dedicated to harm reduction from a seasoned drug user. This information could be useful in many ways: this user mixed a variety of drugs together and reported on the effects and physical effects of doing so; such information is often not known with less popular drugs. He also details his personal harm reduction methods. If there are perhaps commonly found inaccuracies in drug harm reduction advice, or particularly harmful ways of carrying out \"harm reduction\", then this would be pertinent info for public health officials to know. They then could use their resources to correct this misinformation and prevent further harm."
   ]
  },
  {
   "cell_type": "code",
   "execution_count": 79,
   "metadata": {},
   "outputs": [
    {
     "data": {
      "text/plain": [
       "'Safety Guidance for Hard Drugs, and prevent Brain Damage, minimize Depression my own Experience.'"
      ]
     },
     "execution_count": 79,
     "metadata": {},
     "output_type": "execute_result"
    }
   ],
   "source": [
    "data['hgggtx']['title']"
   ]
  },
  {
   "cell_type": "code",
   "execution_count": 80,
   "metadata": {},
   "outputs": [
    {
     "data": {
      "text/plain": [
       "'Greetings to everybody. My background I want share. Firstly, this post is not to promote drugs, this post is to teach teenagers that are about to use drugs, and tell them the consequences, the downs, the depression, the brain damages, and all negativities.Because we adults definetly know that telling dont do is not gonna do anything :) So better guide for safety no one gets harmed.\\n\\nWhat things Below that I have used for long term what I call (1-6 months)\\n\\n1) Weed (3 years, every morning, every lunchtime, every afternoon , every night ; basically till I pass out peacefully, what I call dying :) )\\n\\n2) LSD( I did this 3 times, first one was Microdosing 25ug done for 2 weeks, second one for spirituality purposes which really scared me but no traumas thanks God that was extreme dosage 600ug, third time was more conscious and not crazy which was 250ug and that was a lovely experience walked outside slowly with Hiphop on my ear to cancel bad trips and stick to lyrics singing watching the sun rising, sittin on grass meditating with Theta Waves Sounds in my ear.)\\n\\n3) Mushrooms( Many many times, just for fun no spirtuality. I wish I done for spirituality after I made some research Mushrooms and meditating is real good one trust me. I tried the Chocolate ones, mushroom as itself ones original, and one time I did Mushroom which was the first time I tried I was a bit coward :) So I drank whiskey with it and it was really enjoyable but I ended up doing barfix with my friends outside at 3 AM injured my hand then I was saying funny things like “Damn Im a Army Veteran, be a Soldier , bring me some whiskey we pour the this wound so bacterias die” I was damn crazy, actually Im still crazy and fun for many people ahahah)\\n\\n4) Ketamine (I hated it, why the hell I would try that man. I dont like things that makes me dumb, slow thinking, slow response. But Im hyprocrite check out the 5th step and you get me)\\n\\n5)Codeine with Promethazine( My favorite, I got addicted to this one, I dont recommend to any of you guys, oxycodone too . Dont do it stay away! The withdrawals of it!?? Oh - My- Dear- Lord. Whole body hurts 24/7, when you lie down to bed it still hurts, you cant go to sleep, I even couldnt sleep with weed when I quit codeine , the weed was like not effecting at all, it was weird, and trust me I only get the A+ stuff, but overall I loved Codeine, calming down, but dangerous sometimes because if you miss the dose and keep goin your heart stops , its slows you that much.)\\n\\n6) lyrica(pregabalin 300mg) my favorite in the whole drugs industry. I was a extreme alhocolic. I would wake up at 4 AM, and start drinking at 12:00 lunchtime starting with 2 double whiskies, then go lunch and have some Wine, dont even ask the rest of the day, 70cl Whiskey mostly half of it, Weed included, sometimes xanax included. Real blackout. Why I tell this? Because Lyrica is the drug that make me quit Alcohol. Basically it makes me calm,chill, talkative, motivated, uplifted, energetic, alway'"
      ]
     },
     "execution_count": 80,
     "metadata": {},
     "output_type": "execute_result"
    }
   ],
   "source": [
    "data['hgggtx']['text'][:3000]"
   ]
  },
  {
   "cell_type": "markdown",
   "metadata": {},
   "source": [
    "Here we have an example of a user who has just administered a drug, and is reporting his effects. This could be useful information to public health officials and can inform a entity/relationship graph, specifically the relationship between drugs and the user."
   ]
  },
  {
   "cell_type": "code",
   "execution_count": 81,
   "metadata": {},
   "outputs": [
    {
     "data": {
      "text/plain": [
       "\"I'm pretty fluid right now off 3mg of Xanax. Bar and a half. I know they are real, I seen them from the prescription bottle they came in so I'm not worried about them being laced. However this is the first time I decided to solely use xanax for a high. Do yall have any recommendations or advice for how I should handle this? I feel really good, but I'm more used to molly and acid. What should I get into tonight?\\n\\n\\n\\nEdit: I love all of you, these responses are making this high even better. Kinda wish yall were nearby to come kick it!\""
      ]
     },
     "execution_count": 81,
     "metadata": {},
     "output_type": "execute_result"
    }
   ],
   "source": [
    "data['dwhu8e']['text']"
   ]
  },
  {
   "cell_type": "markdown",
   "metadata": {},
   "source": [
    "## Reddit data cleaning and manipulation"
   ]
  },
  {
   "cell_type": "markdown",
   "metadata": {},
   "source": [
    "All data was pulled using the reddit api, meaning that no real data cleaning was needed, only organization."
   ]
  },
  {
   "cell_type": "markdown",
   "metadata": {},
   "source": [
    "We created a script to pull data off of reddit using 5 parameters: subreddits to search, queries to enter, the sort order of the retrieved posts, and the timeframe to fetch data from. They were initialized in the following format for this data query."
   ]
  },
  {
   "cell_type": "code",
   "execution_count": 82,
   "metadata": {},
   "outputs": [],
   "source": [
    "## Subreddits to search through\n",
    "SUBREDDITS = ['drugs', 'researchchemicals']\n",
    "\n",
    "## Query\n",
    "QUERIES = ['xanax', 'opiate', 'opioid', 'best', 'fentanyl', 'heroin', 'adderall', 'amps', 'speed', 'amphetamine', 'stims', 'stimulant', 'hydro', 'oxy', 'hydrocodone', 'oxycodone', 'subs', 'suboxone', 'xannies']\n",
    "\n",
    "## Search Params\n",
    "SORT='comments'\n",
    "TIME='year'"
   ]
  },
  {
   "cell_type": "markdown",
   "metadata": {},
   "source": [
    "As this is only an exploratory paper, these subreddits and search terms are not an axhaustive list of the final database used to create our knowledge graph."
   ]
  },
  {
   "cell_type": "markdown",
   "metadata": {},
   "source": [
    "# Ontology data"
   ]
  },
  {
   "cell_type": "markdown",
   "metadata": {},
   "source": [
    "Another dataset we used is ontologies which contain names of drug and symptoms. We use this as a knowdlege base for our projcet, that we search those ontologies terms in the Reddit data to know what people are talking about in their post. \n",
    "\n",
    "Here we have two source for Ontology data, one is from MESH, another is from result of the ODKG package, and we combine the terms from two sources"
   ]
  },
  {
   "cell_type": "code",
   "execution_count": 6,
   "metadata": {},
   "outputs": [],
   "source": [
    "import pandas as pd\n",
    "on=pd.read_csv('opioid_ontologies_relation.csv',usecols=['opioid1'])\n",
    "mesh=pd.read_csv('MESH.csv',usecols=['Preferred Label'])"
   ]
  },
  {
   "cell_type": "markdown",
   "metadata": {},
   "source": [
    "we clean up the ontology data by remove extra character and strip white space "
   ]
  },
  {
   "cell_type": "code",
   "execution_count": 7,
   "metadata": {},
   "outputs": [],
   "source": [
    "mesh_ls = list(set(mesh['Preferred Label']))\n",
    "on_ls = [i.strip('@en').strip('\"') for i in list(set(on['opioid1']))]\n",
    "temp = on[on['opioid1'].apply(lambda x: True if len(x.split())==1 else False)]\n",
    "medname_only = [i.strip('@en').strip('\"') for i in list(set(temp['opioid1']))]\n",
    "terms = on_ls+mesh_ls+medname_only"
   ]
  },
  {
   "cell_type": "markdown",
   "metadata": {},
   "source": [
    "here are some example of our ontology terms:"
   ]
  },
  {
   "cell_type": "code",
   "execution_count": 12,
   "metadata": {},
   "outputs": [
    {
     "data": {
      "text/plain": [
       "['Naloxone Nasal Spray',\n",
       " 'Alfentanil Injection [Alfenta]',\n",
       " 'Lucemyra Pill',\n",
       " 'Relistor Oral Product',\n",
       " 'Sublimaze Injectable Product',\n",
       " 'Dilaudid Oral Liquid Product',\n",
       " 'Sublocade',\n",
       " '24 HR tramadol hydrochloride 100 MG Extended Release Oral Capsule [ConZip]',\n",
       " 'Relistor Injectable Product',\n",
       " 'Fentanyl 0.3 MG']"
      ]
     },
     "execution_count": 12,
     "metadata": {},
     "output_type": "execute_result"
    }
   ],
   "source": [
    "terms[:10]"
   ]
  },
  {
   "cell_type": "markdown",
   "metadata": {},
   "source": [
    "Example of how we will use these term:\n",
    "\n",
    "    For term \"depression\", we will search for it in reddit data with similar match, so \"depression\", \"depressive\",\"depressed\", can all be catched."
   ]
  },
  {
   "cell_type": "code",
   "execution_count": null,
   "metadata": {},
   "outputs": [],
   "source": []
  }
 ],
 "metadata": {
  "kernelspec": {
   "display_name": "Python 3",
   "language": "python",
   "name": "python3"
  },
  "language_info": {
   "codemirror_mode": {
    "name": "ipython",
    "version": 3
   },
   "file_extension": ".py",
   "mimetype": "text/x-python",
   "name": "python",
   "nbconvert_exporter": "python",
   "pygments_lexer": "ipython3",
   "version": "3.7.4"
  }
 },
 "nbformat": 4,
 "nbformat_minor": 2
}
